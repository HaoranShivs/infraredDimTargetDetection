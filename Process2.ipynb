{
 "cells": [
  {
   "cell_type": "code",
   "execution_count": 1,
   "metadata": {},
   "outputs": [],
   "source": [
    "import cv2\n",
    "import numpy as np\n",
    "import matplotlib.pyplot as plt\n",
    "import os\n",
    "import yaml\n",
    "\n",
    "import torch\n",
    "import torch.nn as nn\n",
    "\n",
    "from net.basenet import GaussNet3\n",
    "from dataprocess.sirst import NUDTDataset, IRSTD1kDataset"
   ]
  },
  {
   "cell_type": "markdown",
   "metadata": {},
   "source": [
    "- params' names:\n",
    "    - multiscalef.pyramid.0.conv1.conv2d.weight\n",
    "    - multiscalef.pyramid.0.conv1.conv2d.bias\n",
    "    - multiscalef.pyramid.0.conv1.bn.weight\n",
    "    - multiscalef.pyramid.0.conv1.bn.bias\n",
    "    - multiscalef.pyramid.0.conv1.bn.running_mean\n",
    "    - multiscalef.pyramid.0.conv1.bn.running_var\n",
    "    - multiscalef.pyramid.0.conv1.bn.num_batches_tracked\n",
    "    - multiscalef.pyramid.0.gauss.tempreture\n",
    "    - multiscalef.pyramid.0.gauss.bias\n",
    "    - multiscalef.pyramid.0.gauss.atten.weight\n",
    "    - multiscalef.pyramid.0.conv2.conv2d.weight\n",
    "    - multiscalef.pyramid.0.conv2.conv2d.bias\n",
    "    - multiscalef.pyramid.0.conv2.bn.weight\n",
    "    - multiscalef.pyramid.0.conv2.bn.bias\n",
    "    - multiscalef.pyramid.0.conv2.bn.running_mean\n",
    "    - multiscalef.pyramid.0.conv2.bn.running_var\n",
    "    - multiscalef.pyramid.0.conv2.bn.num_batches_tracked"
   ]
  },
  {
   "cell_type": "code",
   "execution_count": 4,
   "metadata": {},
   "outputs": [
    {
     "name": "stdout",
     "output_type": "stream",
     "text": [
      "tensor([[[[3.8915]],\n",
      "\n",
      "         [[3.4994]],\n",
      "\n",
      "         [[2.1723]],\n",
      "\n",
      "         [[1.0478]],\n",
      "\n",
      "         [[0.4586]],\n",
      "\n",
      "         [[1.5008]],\n",
      "\n",
      "         [[2.2600]],\n",
      "\n",
      "         [[2.5714]],\n",
      "\n",
      "         [[3.7620]],\n",
      "\n",
      "         [[3.5326]],\n",
      "\n",
      "         [[1.9867]],\n",
      "\n",
      "         [[1.4650]],\n",
      "\n",
      "         [[3.9151]],\n",
      "\n",
      "         [[3.1919]],\n",
      "\n",
      "         [[2.3276]],\n",
      "\n",
      "         [[1.9021]],\n",
      "\n",
      "         [[4.5230]],\n",
      "\n",
      "         [[2.6926]],\n",
      "\n",
      "         [[4.3357]],\n",
      "\n",
      "         [[3.6322]],\n",
      "\n",
      "         [[2.2705]],\n",
      "\n",
      "         [[2.4610]],\n",
      "\n",
      "         [[3.0182]],\n",
      "\n",
      "         [[2.3537]],\n",
      "\n",
      "         [[2.8281]],\n",
      "\n",
      "         [[3.3674]],\n",
      "\n",
      "         [[1.7199]],\n",
      "\n",
      "         [[2.7596]],\n",
      "\n",
      "         [[2.7971]],\n",
      "\n",
      "         [[2.3630]],\n",
      "\n",
      "         [[1.3497]],\n",
      "\n",
      "         [[2.5153]]]], device='cuda:0')\n"
     ]
    }
   ],
   "source": [
    "pt_path = \"result/20240810T11-43-39_gauss7_1_irstd1k\\latest.pkl\"\n",
    "params = torch.load(pt_path)\n",
    "print(params[\"multiscalef.pyramid.0.gauss.tempreture\"])"
   ]
  },
  {
   "cell_type": "code",
   "execution_count": 5,
   "metadata": {},
   "outputs": [],
   "source": [
    "cfg_path = 'cfg.yaml'\n",
    "with open(cfg_path) as f:\n",
    "    cfg = yaml.safe_load(f)\n",
    "\n",
    "net = GaussNet3(1, cfg)"
   ]
  },
  {
   "cell_type": "code",
   "execution_count": null,
   "metadata": {},
   "outputs": [],
   "source": [
    "from torchvision import transforms\n",
    "\n",
    "augment = transforms.Compose([\n",
    "                    transforms.RandomAffine(degrees=180, translate=(0.1, 0.1), shear=0),\n",
    "                ])"
   ]
  },
  {
   "cell_type": "code",
   "execution_count": null,
   "metadata": {},
   "outputs": [],
   "source": []
  }
 ],
 "metadata": {
  "kernelspec": {
   "display_name": "torch221",
   "language": "python",
   "name": "python3"
  },
  "language_info": {
   "codemirror_mode": {
    "name": "ipython",
    "version": 3
   },
   "file_extension": ".py",
   "mimetype": "text/x-python",
   "name": "python",
   "nbconvert_exporter": "python",
   "pygments_lexer": "ipython3",
   "version": "3.9.19"
  }
 },
 "nbformat": 4,
 "nbformat_minor": 2
}
