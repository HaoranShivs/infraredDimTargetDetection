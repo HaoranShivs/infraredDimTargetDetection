{
 "cells": [
  {
   "cell_type": "code",
   "execution_count": null,
   "metadata": {},
   "outputs": [],
   "source": [
    "import cv2\n",
    "import numpy as np \n",
    "import matplotlib.pyplot as plt\n",
    "import os\n",
    "import yaml\n",
    "from PIL import Image\n",
    "\n",
    "import torch\n",
    "import torch.nn as nn\n",
    "\n",
    "from net.basenet import GaussNet3, GaussianConv2d\n",
    "from dataprocess.sirst import NUDTDataset, IRSTD1kDataset"
   ]
  },
  {
   "cell_type": "code",
   "execution_count": null,
   "metadata": {},
   "outputs": [],
   "source": [
    "base_size = 128\n",
    "pict = np.array(cv2.resize(cv2.imread('W:/DataSets/ISTD/IRSTD-1k/trainval/masks/XDU116.png', 0), [base_size, base_size], interpolation=cv2.INTER_LINEAR))\n",
    "pict = np.array((pict, np.array(cv2.resize(cv2.imread('W:/DataSets/ISTD/IRSTD-1k/trainval/images/XDU116.png', 0), [base_size, base_size], interpolation=cv2.INTER_LINEAR))))\n",
    "# pict = cv2.resize(pict, [2, 256, 256], interpolation=cv2.INTER_LINEAR)\n",
    "pict = torch.from_numpy(pict).type(torch.float32)/255\n",
    "# pict = pict.unsqueeze(0).view(2, 1, 240, 320)\n",
    "# pict = pict[:,:,:,:240]\n",
    "# pict = pict[:,:,:240]\n",
    "print(pict.shape)"
   ]
  },
  {
   "cell_type": "code",
   "execution_count": null,
   "metadata": {},
   "outputs": [],
   "source": [
    "net = GaussianConv2d(1, 3, 0.6)"
   ]
  },
  {
   "cell_type": "code",
   "execution_count": null,
   "metadata": {},
   "outputs": [],
   "source": [
    "res = net(pict[1:2,])\n",
    "\n",
    "print(net.atten.weight.data)\n",
    "print(net.tempreture)\n",
    "print(net.bias)\n",
    "\n",
    "originp = np.array(pict)\n",
    "# originp = (originp * 255).astype(np.uint8)\n",
    "gaussp = res.detach().numpy()\n",
    "gaussp = (gaussp - np.min(gaussp)) / (np.max(gaussp)-np.min(gaussp))\n",
    "# gaussp = (gaussp * 255).astype(np.uint8)\n",
    "\n",
    "# # 转换为PIL图像\n",
    "# pil_image = Image.fromarray(gaussp[0, 0])\n",
    "\n",
    "# # 保存图像\n",
    "# pil_image.save(\"output4.png\")\n",
    "\n",
    "fig, axes = plt.subplots(1, 2, figsize=(10, 4))\n",
    "# plt.imshow(gaussp[0,0], cmap='gray')\n",
    "axes[0].imshow(gaussp[0, 0], cmap='gray')\n",
    "axes[0].axis('off')  # 关闭坐标轴显示\n",
    "    \n",
    "axes[1].imshow(originp[1], cmap='gray')\n",
    "axes[1].axis('off')  # 同样关闭坐标轴显示\n",
    "# plt.title('Blurred Image')\n",
    "plt.tight_layout()\n",
    "plt.show()"
   ]
  },
  {
   "cell_type": "code",
   "execution_count": null,
   "metadata": {},
   "outputs": [],
   "source": [
    "import math\n",
    "\n",
    "def gaussian_kernel(channel, kernel_size, sigma):\n",
    "    \"\"\"创建一个高斯核\"\"\"\n",
    "    # 创建一个一维高斯核\n",
    "    kernel_1d = torch.Tensor([math.exp(-z ** 2.0 / (2 * sigma ** 2)) for z in range(-kernel_size // 2 + 1, kernel_size // 2 + 1)])\n",
    "    # 将一维高斯核扩展为二维\n",
    "    kernel_2d = torch.outer(kernel_1d, kernel_1d)\n",
    "    # 归一化\n",
    "    kernel_2d /= kernel_2d.sum()\n",
    "    kernel_2d[kernel_size // 2, kernel_size // 2] = -kernel_2d[kernel_size // 2, kernel_size // 2]\n",
    "    # 整个卷积核参数\n",
    "    params = torch.zeros((channel, channel, kernel_size, kernel_size))\n",
    "    for i in range(channel):\n",
    "        params[i, i] = kernel_2d\n",
    "    return params\n",
    "\n",
    "res = gaussian_kernel(1,3,0.6)\n",
    "print(res)"
   ]
  },
  {
   "cell_type": "code",
   "execution_count": null,
   "metadata": {},
   "outputs": [],
   "source": [
    "pt_path = \"result/20240819T08-38-33_new_gauss2_1_irstd1k/best.pkl\"\n",
    "params = torch.load(pt_path)\n",
    "# for key in params:\n",
    "#     print(key)\n",
    "for k in params:\n",
    "    if \"gauss.bias\" in k:\n",
    "        print(k)\n",
    "        print(params[k])"
   ]
  },
  {
   "cell_type": "code",
   "execution_count": null,
   "metadata": {},
   "outputs": [],
   "source": [
    "cfg_path = 'cfg.yaml'\n",
    "with open(cfg_path) as f:\n",
    "    cfg = yaml.safe_load(f)\n",
    "\n",
    "net = GaussNet3(1, cfg)"
   ]
  },
  {
   "cell_type": "code",
   "execution_count": null,
   "metadata": {},
   "outputs": [],
   "source": [
    "from torchvision import transforms\n",
    "\n",
    "augment = transforms.Compose([\n",
    "                    transforms.RandomAffine(degrees=180, translate=(0.1, 0.1), shear=0),\n",
    "                ])"
   ]
  },
  {
   "cell_type": "code",
   "execution_count": null,
   "metadata": {},
   "outputs": [],
   "source": [
    "a = np.array(cv2.imread(\"result/20240812T12-46-54_gauss9_1_irstd1k/nudt_result.png\", 0))"
   ]
  },
  {
   "cell_type": "code",
   "execution_count": null,
   "metadata": {},
   "outputs": [],
   "source": [
    "print(a.shape)"
   ]
  },
  {
   "cell_type": "code",
   "execution_count": null,
   "metadata": {},
   "outputs": [],
   "source": [
    "import math\n",
    "import torch\n",
    "sigma = 2\n",
    "kernel_size = 5"
   ]
  },
  {
   "cell_type": "code",
   "execution_count": null,
   "metadata": {},
   "outputs": [],
   "source": [
    "def generate_gauss_kernel():\n",
    "    kernel_size = 3\n",
    "    sigma = 2\n",
    "\n",
    "    kernels = []\n",
    "    for i in range(kernel_size):\n",
    "        for j in range(kernel_size):\n",
    "            x = torch.arange(0, kernel_size, 1, dtype=torch.float32) - i\n",
    "            y = torch.arange(0, kernel_size, 1, dtype=torch.float32) - j\n",
    "            kernel_1d_x = torch.exp(-(x**2) / (2 * sigma**2))\n",
    "            kernel_1d_y = torch.exp(-(y**2) / (2 * sigma**2))\n",
    "            kernel_2d = torch.outer(kernel_1d_x, kernel_1d_y)\n",
    "            # 归一化\n",
    "            kernel_2d /= kernel_2d.sum()\n",
    "            kernels.append(kernel_2d)\n",
    "\n",
    "    return kernels\n",
    "\n",
    "result = generate_gauss_kernel()\n",
    "for i in result:\n",
    "    print(i)"
   ]
  },
  {
   "cell_type": "code",
   "execution_count": 1,
   "metadata": {},
   "outputs": [
    {
     "name": "stdout",
     "output_type": "stream",
     "text": [
      "[32, 48, 64, 96, 128]\n"
     ]
    }
   ],
   "source": [
    "from dataprocess.croped_sirst import Crop_IRSTD1kDataset\n",
    "import yaml\n",
    "import torch\n",
    "\n",
    "cfg_path = 'cfg.yaml'\n",
    "with open(cfg_path) as f:\n",
    "    cfg = yaml.safe_load(f)\n",
    "print(cfg[\"multiscalefeature_outchannel\"])\n",
    "\n",
    "dataset = Crop_IRSTD1kDataset(base_dir=r\"W:/DataSets/ISTD/IRSTD-1k\", mode=\"train\", base_size=32)\n",
    "# train_data_loader = torch.utils.data.DataLoader(dataset, batch_size=8, shuffle=True, pin_memory=True)"
   ]
  },
  {
   "cell_type": "code",
   "execution_count": 3,
   "metadata": {},
   "outputs": [
    {
     "name": "stdout",
     "output_type": "stream",
     "text": [
      "torch.Size([2, 16, 16])\n",
      "torch.Size([2, 32, 32])\n",
      "torch.Size([32, 32])\n",
      "tensor([ 7, 13])\n",
      "torch.Size([2, 16, 16])\n",
      "torch.Size([2, 32, 32])\n",
      "torch.Size([32, 32])\n",
      "tensor([10,  3])\n",
      "torch.Size([2, 8, 8])\n",
      "torch.Size([2, 32, 32])\n",
      "torch.Size([32, 32])\n",
      "tensor([19, 14])\n",
      "torch.Size([2, 16, 16])\n",
      "torch.Size([2, 32, 32])\n",
      "torch.Size([32, 32])\n",
      "tensor([10, 12])\n",
      "torch.Size([2, 16, 16])\n",
      "torch.Size([2, 32, 32])\n",
      "torch.Size([32, 32])\n",
      "tensor([7, 7])\n",
      "torch.Size([2, 16, 16])\n",
      "torch.Size([2, 32, 32])\n",
      "torch.Size([32, 32])\n",
      "tensor([0, 6])\n",
      "torch.Size([2, 16, 16])\n",
      "torch.Size([2, 32, 32])\n",
      "torch.Size([32, 32])\n",
      "tensor([9, 8])\n",
      "torch.Size([2, 16, 16])\n",
      "torch.Size([2, 32, 32])\n",
      "torch.Size([32, 32])\n",
      "tensor([10,  2])\n",
      "torch.Size([2, 16, 16])\n",
      "torch.Size([2, 32, 32])\n",
      "torch.Size([32, 32])\n",
      "tensor([6, 5])\n"
     ]
    }
   ],
   "source": [
    "i = 8\n",
    "labels = []\n",
    "datas = []\n",
    "for data, label in dataset:\n",
    "    i -= 1\n",
    "    if i < 0:\n",
    "        break\n",
    "    labels.append(label.squeeze())\n",
    "    datas.append(data.squeeze())"
   ]
  },
  {
   "cell_type": "code",
   "execution_count": 6,
   "metadata": {},
   "outputs": [
    {
     "name": "stdout",
     "output_type": "stream",
     "text": [
      "(8, 32, 32)\n"
     ]
    },
    {
     "data": {
      "image/png": "[encoded data removed]",
      "text/plain": [
       "<Figure size 640x480 with 16 Axes>"
      ]
     },
     "metadata": {},
     "output_type": "display_data"
    }
   ],
   "source": [
    "import numpy as np\n",
    "import matplotlib.pyplot as plt\n",
    "\n",
    "label = np.array(labels)\n",
    "datas = np.array(datas)\n",
    "print(datas.shape)\n",
    "# originp = (originp * 255).astype(np.uint8)\n",
    "# gaussp = res.detach().numpy()\n",
    "# gaussp = (gaussp - np.min(gaussp)) / (np.max(gaussp)-np.min(gaussp))\n",
    "# gaussp = (gaussp * 255).astype(np.uint8)\n",
    "\n",
    "# # 转换为PIL图像\n",
    "# pil_image = Image.fromarray(gaussp[0, 0])\n",
    "\n",
    "# # 保存图像\n",
    "# pil_image.save(\"output4.png\")\n",
    "row_num = label.shape[0]\n",
    "fig, axes = plt.subplots(row_num, 2)\n",
    "for i in range(row_num):\n",
    "    # plt.imshow(gaussp[0,0], cmap='gray')\n",
    "    axes[i, 0].imshow(label[i], cmap='gray')\n",
    "    axes[i, 0].axis('off')  # 关闭坐标轴显示\n",
    "        \n",
    "    axes[i, 1].imshow(datas[i], cmap='gray')\n",
    "    axes[i, 1].axis('off')  # 同样关闭坐标轴显示\n",
    "    # plt.title('Blurred Image')\n",
    "plt.tight_layout()\n",
    "plt.show()"
   ]
  },
  {
   "cell_type": "code",
   "execution_count": null,
   "metadata": {},
   "outputs": [],
   "source": [
    "print(multiscale_label[0])"
   ]
  },
  {
   "cell_type": "code",
   "execution_count": null,
   "metadata": {},
   "outputs": [],
   "source": [
    "import torch\n",
    "from net.twotasknet import Heatmap_net\n",
    "\n",
    "# 1. 准备模型\n",
    "model = Heatmap_net(1, cfg)\n",
    "model.eval()  # 设置模型为评估模式\n",
    "\n",
    "# 2. 定义输入形状\n",
    "dummy_input = torch.randn(32, 1, 256, 256)  # 一个batch_size=1的示例输入\n",
    "\n",
    "# 3. 导出模型 \n",
    "torch.onnx.export(\n",
    "    model,  # 模型实例\n",
    "    dummy_input,  # 示例输入\n",
    "    \"heatmap_net.onnx\",  # 输出文件名\n",
    "    export_params=True,  # 存储模型参数 \n",
    "    opset_version=17,  # ONNX版本\n",
    "    do_constant_folding=True,  # 是否执行常量折叠优化\n",
    "    input_names=['input'],  # 输入节点名称\n",
    "    output_names=['output'],  # 输出节点名称\n",
    "    dynamic_axes={'input': {0: 'batch_size'},  # 可变维度\n",
    "                  'output': {0: 'batch_size'}}\n",
    ")"
   ]
  },
  {
   "cell_type": "code",
   "execution_count": 1,
   "metadata": {},
   "outputs": [],
   "source": [
    "from net.twotasknet import HeatMaptoImg\n",
    "import torch"
   ]
  },
  {
   "cell_type": "code",
   "execution_count": 1,
   "metadata": {},
   "outputs": [],
   "source": [
    "from net.twotasknet import TwoTaskNetWithLoss\n",
    "from net.attentionnet import attenMultiplyUNet\n",
    "\n",
    "import torch\n",
    "import yaml\n",
    "\n",
    "cfg_path = 'cfg.yaml'\n",
    "with open(cfg_path) as f:\n",
    "    cfg = yaml.safe_load(f)\n",
    "\n",
    "def count_parameters(model):\n",
    "    return sum(p.numel() for p in model.parameters() if p.requires_grad)"
   ]
  },
  {
   "cell_type": "code",
   "execution_count": 2,
   "metadata": {},
   "outputs": [
    {
     "name": "stdout",
     "output_type": "stream",
     "text": [
      "4427350\n"
     ]
    }
   ],
   "source": [
    "net = attenMultiplyUNet(cfg)\n",
    "print(count_parameters(net))\n",
    "# a = count_parameters(net.net_heatmap)\n",
    "# print(a)\n",
    "# b = count_parameters(net.net_localseg)\n",
    "# print(b)"
   ]
  },
  {
   "cell_type": "code",
   "execution_count": 1,
   "metadata": {},
   "outputs": [],
   "source": [
    "import torch"
   ]
  },
  {
   "cell_type": "code",
   "execution_count": 4,
   "metadata": {},
   "outputs": [
    {
     "name": "stdout",
     "output_type": "stream",
     "text": [
      "tensor([[-0.6311],\n",
      "        [ 0.5071]])\n",
      "tensor([[ 0.7653, -0.2173,  1.6988,  0.1399],\n",
      "        [ 0.9701, -0.9867,  0.0586,  1.1327]])\n",
      "tensor([[-0.4830,  0.1371, -1.0721, -0.0883],\n",
      "        [ 0.4919, -0.5003,  0.0297,  0.5743]])\n"
     ]
    }
   ],
   "source": [
    "a = torch.randn((2,1))\n",
    "print(a)\n",
    "b = torch.randn((2,4))\n",
    "print(b)\n",
    "c = a * b\n",
    "print(c)"
   ]
  },
  {
   "cell_type": "code",
   "execution_count": 4,
   "metadata": {},
   "outputs": [
    {
     "name": "stdout",
     "output_type": "stream",
     "text": [
      "tensor([[[[ 0.2945, -1.6937, -0.4777, -0.8346,  0.0160, -0.3761,  0.6503,\n",
      "            0.4362],\n",
      "          [-0.3471, -0.9358,  0.8630,  0.3979,  0.3385,  0.2603,  0.0579,\n",
      "           -0.6900],\n",
      "          [-0.5948,  0.1526, -1.1665,  0.8847,  0.7445,  0.8429,  0.4279,\n",
      "           -0.3104],\n",
      "          [-1.3352, -0.6949, -0.1322,  1.0315, -0.8240, -0.3998,  0.8544,\n",
      "            0.4026],\n",
      "          [-0.6897,  0.8612, -0.8703,  1.2025,  0.0348, -0.7983,  0.2408,\n",
      "            1.7760],\n",
      "          [ 0.2202,  0.6050,  0.3708, -0.5983, -0.5442, -0.1587,  0.4599,\n",
      "           -0.7493],\n",
      "          [-0.1097,  0.6814, -0.0685,  2.2017,  0.1956, -0.7722,  0.4304,\n",
      "           -0.1054],\n",
      "          [ 1.2892, -1.2722, -0.9184,  0.0404,  0.0147,  0.6385, -0.3078,\n",
      "            0.6058]]],\n",
      "\n",
      "\n",
      "        [[[-1.3255,  0.6792,  0.9170,  1.1509, -1.3670,  0.1873,  0.3723,\n",
      "           -0.7406],\n",
      "          [-0.4857, -0.5493, -0.7397, -2.0155,  0.1307,  0.3393, -0.2101,\n",
      "           -0.0908],\n",
      "          [ 2.2744,  0.5956, -1.2879,  0.9637, -0.7102, -0.3941, -0.6435,\n",
      "           -1.6383],\n",
      "          [-0.6573, -0.6685,  1.0276,  1.2540,  1.2159,  1.1199,  0.5085,\n",
      "            0.8890],\n",
      "          [-1.2655,  1.3690,  0.5648, -0.7747,  0.5581,  0.4251, -0.7615,\n",
      "           -0.4241],\n",
      "          [ 0.2194, -0.5965,  0.7406,  0.5854,  1.1390,  0.6783,  2.3793,\n",
      "           -0.6191],\n",
      "          [-0.5416, -0.9157, -0.4096, -0.2153, -1.1364,  0.3661,  0.0717,\n",
      "            0.2928],\n",
      "          [-0.6223,  0.6734, -0.7893,  0.5754, -0.3061, -0.2323,  0.1121,\n",
      "            0.5260]]]])\n"
     ]
    }
   ],
   "source": [
    "data = torch.randn((2,1,8,8))\n",
    "insert_data = torch.tensor([])\n",
    "\n",
    "data2 = torch.concatenate((data, insert_data), dim=0)\n",
    "print(data2)"
   ]
  },
  {
   "cell_type": "code",
   "execution_count": 1,
   "metadata": {},
   "outputs": [],
   "source": [
    "from net.twotasknet import LocalSegment2\n",
    "\n",
    "net = LocalSegment2(cfg)"
   ]
  },
  {
   "cell_type": "code",
   "execution_count": 2,
   "metadata": {},
   "outputs": [
    {
     "name": "stdout",
     "output_type": "stream",
     "text": [
      "444705\n"
     ]
    }
   ],
   "source": [
    "print(count_parameters(net))"
   ]
  },
  {
   "cell_type": "code",
   "execution_count": 7,
   "metadata": {},
   "outputs": [
    {
     "name": "stdout",
     "output_type": "stream",
     "text": [
      "torch.Size([8, 48, 3, 3]) torch.Size([8, 64, 2, 2])\n"
     ]
    },
    {
     "ename": "RuntimeError",
     "evalue": "The size of tensor a (4) must match the size of tensor b (3) at non-singleton dimension 3",
     "output_type": "error",
     "traceback": [
      "\u001b[1;31m---------------------------------------------------------------------------\u001b[0m",
      "\u001b[1;31mRuntimeError\u001b[0m                              Traceback (most recent call last)",
      "Cell \u001b[1;32mIn[7], line 2\u001b[0m\n\u001b[0;32m      1\u001b[0m input_data \u001b[38;5;241m=\u001b[39m torch\u001b[38;5;241m.\u001b[39mrandn((\u001b[38;5;241m8\u001b[39m,\u001b[38;5;241m1\u001b[39m,\u001b[38;5;241m48\u001b[39m,\u001b[38;5;241m48\u001b[39m))\n\u001b[1;32m----> 2\u001b[0m res \u001b[38;5;241m=\u001b[39m \u001b[43mnet\u001b[49m\u001b[43m(\u001b[49m\u001b[43minput_data\u001b[49m\u001b[43m)\u001b[49m\n\u001b[0;32m      3\u001b[0m \u001b[38;5;28mprint\u001b[39m(res\u001b[38;5;241m.\u001b[39mshape)\n",
      "File \u001b[1;32mw:\\Tools\\conda\\envs\\torch221\\lib\\site-packages\\torch\\nn\\modules\\module.py:1511\u001b[0m, in \u001b[0;36mModule._wrapped_call_impl\u001b[1;34m(self, *args, **kwargs)\u001b[0m\n\u001b[0;32m   1509\u001b[0m     \u001b[38;5;28;01mreturn\u001b[39;00m \u001b[38;5;28mself\u001b[39m\u001b[38;5;241m.\u001b[39m_compiled_call_impl(\u001b[38;5;241m*\u001b[39margs, \u001b[38;5;241m*\u001b[39m\u001b[38;5;241m*\u001b[39mkwargs)  \u001b[38;5;66;03m# type: ignore[misc]\u001b[39;00m\n\u001b[0;32m   1510\u001b[0m \u001b[38;5;28;01melse\u001b[39;00m:\n\u001b[1;32m-> 1511\u001b[0m     \u001b[38;5;28;01mreturn\u001b[39;00m \u001b[38;5;28mself\u001b[39m\u001b[38;5;241m.\u001b[39m_call_impl(\u001b[38;5;241m*\u001b[39margs, \u001b[38;5;241m*\u001b[39m\u001b[38;5;241m*\u001b[39mkwargs)\n",
      "File \u001b[1;32mw:\\Tools\\conda\\envs\\torch221\\lib\\site-packages\\torch\\nn\\modules\\module.py:1520\u001b[0m, in \u001b[0;36mModule._call_impl\u001b[1;34m(self, *args, **kwargs)\u001b[0m\n\u001b[0;32m   1515\u001b[0m \u001b[38;5;66;03m# If we don't have any hooks, we want to skip the rest of the logic in\u001b[39;00m\n\u001b[0;32m   1516\u001b[0m \u001b[38;5;66;03m# this function, and just call forward.\u001b[39;00m\n\u001b[0;32m   1517\u001b[0m \u001b[38;5;28;01mif\u001b[39;00m \u001b[38;5;129;01mnot\u001b[39;00m (\u001b[38;5;28mself\u001b[39m\u001b[38;5;241m.\u001b[39m_backward_hooks \u001b[38;5;129;01mor\u001b[39;00m \u001b[38;5;28mself\u001b[39m\u001b[38;5;241m.\u001b[39m_backward_pre_hooks \u001b[38;5;129;01mor\u001b[39;00m \u001b[38;5;28mself\u001b[39m\u001b[38;5;241m.\u001b[39m_forward_hooks \u001b[38;5;129;01mor\u001b[39;00m \u001b[38;5;28mself\u001b[39m\u001b[38;5;241m.\u001b[39m_forward_pre_hooks\n\u001b[0;32m   1518\u001b[0m         \u001b[38;5;129;01mor\u001b[39;00m _global_backward_pre_hooks \u001b[38;5;129;01mor\u001b[39;00m _global_backward_hooks\n\u001b[0;32m   1519\u001b[0m         \u001b[38;5;129;01mor\u001b[39;00m _global_forward_hooks \u001b[38;5;129;01mor\u001b[39;00m _global_forward_pre_hooks):\n\u001b[1;32m-> 1520\u001b[0m     \u001b[38;5;28;01mreturn\u001b[39;00m forward_call(\u001b[38;5;241m*\u001b[39margs, \u001b[38;5;241m*\u001b[39m\u001b[38;5;241m*\u001b[39mkwargs)\n\u001b[0;32m   1522\u001b[0m \u001b[38;5;28;01mtry\u001b[39;00m:\n\u001b[0;32m   1523\u001b[0m     result \u001b[38;5;241m=\u001b[39m \u001b[38;5;28;01mNone\u001b[39;00m\n",
      "File \u001b[1;32mw:\\Projects\\infraredDimTargetDetection\\net\\twotasknet.py:658\u001b[0m, in \u001b[0;36mLocalSegment2.forward\u001b[1;34m(self, img)\u001b[0m\n\u001b[0;32m    656\u001b[0m \u001b[38;5;28mprint\u001b[39m(x4\u001b[38;5;241m.\u001b[39mshape,x5\u001b[38;5;241m.\u001b[39mshape)\n\u001b[0;32m    657\u001b[0m xT4 \u001b[38;5;241m=\u001b[39m \u001b[38;5;28mself\u001b[39m\u001b[38;5;241m.\u001b[39mfeT5(x5)\n\u001b[1;32m--> 658\u001b[0m x4 \u001b[38;5;241m=\u001b[39m \u001b[43mtorch\u001b[49m\u001b[38;5;241;43m.\u001b[39;49m\u001b[43mmin\u001b[49m\u001b[43m(\u001b[49m\u001b[43mxT4\u001b[49m\u001b[43m,\u001b[49m\u001b[43m \u001b[49m\u001b[43mx4\u001b[49m\u001b[43m)\u001b[49m\n\u001b[0;32m    659\u001b[0m x3 \u001b[38;5;241m=\u001b[39m torch\u001b[38;5;241m.\u001b[39mmin(\u001b[38;5;28mself\u001b[39m\u001b[38;5;241m.\u001b[39mfeT4(x4), x3)\n\u001b[0;32m    660\u001b[0m x2 \u001b[38;5;241m=\u001b[39m torch\u001b[38;5;241m.\u001b[39mmin(\u001b[38;5;28mself\u001b[39m\u001b[38;5;241m.\u001b[39mfeT3(x3), x2)\n",
      "\u001b[1;31mRuntimeError\u001b[0m: The size of tensor a (4) must match the size of tensor b (3) at non-singleton dimension 3"
     ]
    }
   ],
   "source": [
    "input_data = torch.randn((8,1,32,32))\n",
    "res = net(input_data)\n",
    "print(res.shape)"
   ]
  },
  {
   "cell_type": "code",
   "execution_count": 1,
   "metadata": {},
   "outputs": [],
   "source": [
    "import torch\n",
    "import torch.nn as nn\n",
    "\n",
    "from net.attentionnet import ConvDownSample"
   ]
  },
  {
   "cell_type": "code",
   "execution_count": 2,
   "metadata": {},
   "outputs": [
    {
     "name": "stdout",
     "output_type": "stream",
     "text": [
      "torch.Size([4, 1, 128, 128])\n"
     ]
    }
   ],
   "source": [
    "a = torch.randn((4,1,256,256))\n",
    "\n",
    "net = ConvDownSample(1,1)\n",
    "\n",
    "res = net(a)\n",
    "print(res.shape)"
   ]
  },
  {
   "cell_type": "code",
   "execution_count": null,
   "metadata": {},
   "outputs": [],
   "source": []
  }
 ],
 "metadata": {
  "kernelspec": {
   "display_name": "torch221",
   "language": "python",
   "name": "python3"
  },
  "language_info": {
   "codemirror_mode": {
    "name": "ipython",
    "version": 3
   },
   "file_extension": ".py",
   "mimetype": "text/x-python",
   "name": "python",
   "nbconvert_exporter": "python",
   "pygments_lexer": "ipython3",
   "version": "3.9.19"
  }
 },
 "nbformat": 4,
 "nbformat_minor": 2
}
